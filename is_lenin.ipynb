{
 "cells": [
  {
   "cell_type": "markdown",
   "metadata": {
    "id": "5rA4DnWSxLmr"
   },
   "source": [
    "# Objective: \n",
    "Look for an algorithm which can tell if a statemnt was written by V.I. Lenin"
   ]
  },
  {
   "cell_type": "code",
   "execution_count": 1,
   "metadata": {
    "id": "kEZw70SMxrk_"
   },
   "outputs": [],
   "source": [
    "# Import libraries\n",
    "import json\n",
    "import tensorflow as tf\n",
    "\n",
    "from tensorflow.keras.preprocessing.text import Tokenizer\n",
    "from tensorflow.keras.preprocessing.sequence import pad_sequences"
   ]
  },
  {
   "cell_type": "code",
   "execution_count": 2,
   "metadata": {
    "id": "z8S3CQGmraK4"
   },
   "outputs": [],
   "source": [
    "vocab_size = 20000\n",
    "embedding_dim = 16\n",
    "max_length = 100\n",
    "trunc_type = 'post'\n",
    "padding_type = 'post'\n",
    "oov_tok = '<OOV>'"
   ]
  },
  {
   "cell_type": "code",
   "execution_count": 3,
   "metadata": {
    "colab": {
     "base_uri": "https://localhost:8080/"
    },
    "id": "o3i_pSo2yPK3",
    "outputId": "51480fb9-5b9e-4690-eabc-09c72cf088e1"
   },
   "outputs": [
    {
     "name": "stdout",
     "output_type": "stream",
     "text": [
      "--2020-12-12 06:06:02--  http://leninism.masaccio.io/lenin_dataset.json\n",
      "Resolving leninism.masaccio.io (leninism.masaccio.io)... 162.241.252.206\n",
      "Connecting to leninism.masaccio.io (leninism.masaccio.io)|162.241.252.206|:80... connected.\n",
      "HTTP request sent, awaiting response... 200 OK\n",
      "Length: 1733319 (1.7M) [application/json]\n",
      "Saving to: ‘lenin_dataset.json’\n",
      "\n",
      "lenin_dataset.json  100%[===================>]   1.65M  3.51MB/s    in 0.5s    \n",
      "\n",
      "2020-12-12 06:06:03 (3.51 MB/s) - ‘lenin_dataset.json’ saved [1733319/1733319]\n",
      "\n"
     ]
    }
   ],
   "source": [
    "# Import JSON file with file\n",
    "!wget http://leninism.masaccio.io/lenin_dataset.json"
   ]
  },
  {
   "cell_type": "code",
   "execution_count": 4,
   "metadata": {
    "id": "9ngL1X4X0IvJ"
   },
   "outputs": [],
   "source": [
    "# Convert JSON to Lists\n",
    "with open('lenin_dataset.json', 'r') as f:\n",
    "  datastore = json.load(f)\n",
    "\n",
    "statements = []\n",
    "labels = []\n",
    "\n",
    "for item in datastore:\n",
    "  statements.append(item['statement'])\n",
    "  labels.append(item['is_lenin'])"
   ]
  },
  {
   "cell_type": "code",
   "execution_count": 5,
   "metadata": {
    "id": "0RjehdLjOwL3"
   },
   "outputs": [],
   "source": [
    "# Split the data between training and testing sets\n",
    "training_size = round(len(statements) * 0.8)\n",
    "training_statements = statements[0:training_size]\n",
    "testing_statements = statements[training_size:]\n",
    "training_labels = labels[0:training_size]\n",
    "testing_labels = labels[training_size:]"
   ]
  },
  {
   "cell_type": "code",
   "execution_count": 6,
   "metadata": {
    "id": "Mv1wALJEqZKq"
   },
   "outputs": [],
   "source": [
    "# Tokenize the words in the set and fit the sentences\n",
    "tokenizer = Tokenizer(num_words = vocab_size, oov_token=oov_tok)\n",
    "tokenizer.fit_on_texts(training_statements)\n",
    "\n",
    "word_index = tokenizer.word_index\n",
    "\n",
    "training_sequences = tokenizer.texts_to_sequences(training_statements)\n",
    "training_padded = pad_sequences(training_sequences, maxlen=max_length, padding=padding_type, truncating=trunc_type)\n",
    "\n",
    "testing_sequences = tokenizer.texts_to_sequences(testing_statements)\n",
    "testing_padded = pad_sequences(testing_sequences, maxlen=max_length, padding=padding_type, truncating=trunc_type)"
   ]
  },
  {
   "cell_type": "code",
   "execution_count": 7,
   "metadata": {
    "id": "QiSbweSEuyXF"
   },
   "outputs": [],
   "source": [
    "# Convert lists to arrays\n",
    "import numpy as np\n",
    "training_padded = np.array(training_padded)\n",
    "training_labels = np.array(training_labels)\n",
    "\n",
    "testing_padded = np.array(testing_padded)\n",
    "testing_labels = np.array(testing_labels)"
   ]
  },
  {
   "cell_type": "code",
   "execution_count": 8,
   "metadata": {
    "id": "F5kRB9wiv4gl"
   },
   "outputs": [],
   "source": [
    "model = tf.keras.Sequential([\n",
    "                             tf.keras.layers.Embedding(vocab_size, embedding_dim, input_length=max_length),\n",
    "                             tf.keras.layers.GlobalAveragePooling1D(),\n",
    "                             tf.keras.layers.Dense(24, activation='relu'),\n",
    "                             tf.keras.layers.Dense(1, activation='sigmoid')\n",
    "])\n",
    "\n",
    "model.compile(\n",
    "    loss='binary_crossentropy', optimizer='adam', metrics=['accuracy']\n",
    ")"
   ]
  },
  {
   "cell_type": "code",
   "execution_count": 9,
   "metadata": {
    "colab": {
     "base_uri": "https://localhost:8080/"
    },
    "id": "pHhinPsWxzq3",
    "outputId": "61b33c4a-155b-40f9-a7e7-92ad556f88c5"
   },
   "outputs": [
    {
     "name": "stdout",
     "output_type": "stream",
     "text": [
      "Model: \"sequential\"\n",
      "_________________________________________________________________\n",
      "Layer (type)                 Output Shape              Param #   \n",
      "=================================================================\n",
      "embedding (Embedding)        (None, 100, 16)           320000    \n",
      "_________________________________________________________________\n",
      "global_average_pooling1d (Gl (None, 16)                0         \n",
      "_________________________________________________________________\n",
      "dense (Dense)                (None, 24)                408       \n",
      "_________________________________________________________________\n",
      "dense_1 (Dense)              (None, 1)                 25        \n",
      "=================================================================\n",
      "Total params: 320,433\n",
      "Trainable params: 320,433\n",
      "Non-trainable params: 0\n",
      "_________________________________________________________________\n"
     ]
    }
   ],
   "source": [
    "model.summary()"
   ]
  },
  {
   "cell_type": "code",
   "execution_count": 10,
   "metadata": {
    "colab": {
     "base_uri": "https://localhost:8080/"
    },
    "id": "ytSRMPrzx5zF",
    "outputId": "9459fff5-f75c-4202-87ac-372bcbc881f9"
   },
   "outputs": [
    {
     "name": "stdout",
     "output_type": "stream",
     "text": [
      "Epoch 1/30\n",
      "61/61 - 0s - loss: 0.6770 - accuracy: 0.5994 - val_loss: 0.6575 - val_accuracy: 0.6116\n",
      "Epoch 2/30\n",
      "61/61 - 0s - loss: 0.6419 - accuracy: 0.6004 - val_loss: 0.6141 - val_accuracy: 0.6116\n",
      "Epoch 3/30\n",
      "61/61 - 0s - loss: 0.5698 - accuracy: 0.6572 - val_loss: 0.5289 - val_accuracy: 0.7025\n",
      "Epoch 4/30\n",
      "61/61 - 0s - loss: 0.4570 - accuracy: 0.8121 - val_loss: 0.4201 - val_accuracy: 0.8471\n",
      "Epoch 5/30\n",
      "61/61 - 0s - loss: 0.3304 - accuracy: 0.9308 - val_loss: 0.3232 - val_accuracy: 0.8905\n",
      "Epoch 6/30\n",
      "61/61 - 0s - loss: 0.2280 - accuracy: 0.9623 - val_loss: 0.2565 - val_accuracy: 0.9256\n",
      "Epoch 7/30\n",
      "61/61 - 0s - loss: 0.1621 - accuracy: 0.9742 - val_loss: 0.2161 - val_accuracy: 0.9318\n",
      "Epoch 8/30\n",
      "61/61 - 0s - loss: 0.1209 - accuracy: 0.9835 - val_loss: 0.1927 - val_accuracy: 0.9360\n",
      "Epoch 9/30\n",
      "61/61 - 0s - loss: 0.0937 - accuracy: 0.9881 - val_loss: 0.1783 - val_accuracy: 0.9298\n",
      "Epoch 10/30\n",
      "61/61 - 0s - loss: 0.0746 - accuracy: 0.9897 - val_loss: 0.1628 - val_accuracy: 0.9421\n",
      "Epoch 11/30\n",
      "61/61 - 0s - loss: 0.0613 - accuracy: 0.9907 - val_loss: 0.1599 - val_accuracy: 0.9360\n",
      "Epoch 12/30\n",
      "61/61 - 0s - loss: 0.0510 - accuracy: 0.9933 - val_loss: 0.1499 - val_accuracy: 0.9463\n",
      "Epoch 13/30\n",
      "61/61 - 0s - loss: 0.0441 - accuracy: 0.9938 - val_loss: 0.1466 - val_accuracy: 0.9483\n",
      "Epoch 14/30\n",
      "61/61 - 0s - loss: 0.0374 - accuracy: 0.9917 - val_loss: 0.1463 - val_accuracy: 0.9463\n",
      "Epoch 15/30\n",
      "61/61 - 0s - loss: 0.0326 - accuracy: 0.9948 - val_loss: 0.1609 - val_accuracy: 0.9380\n",
      "Epoch 16/30\n",
      "61/61 - 0s - loss: 0.0286 - accuracy: 0.9959 - val_loss: 0.1460 - val_accuracy: 0.9421\n",
      "Epoch 17/30\n",
      "61/61 - 0s - loss: 0.0258 - accuracy: 0.9964 - val_loss: 0.1435 - val_accuracy: 0.9421\n",
      "Epoch 18/30\n",
      "61/61 - 0s - loss: 0.0227 - accuracy: 0.9964 - val_loss: 0.1445 - val_accuracy: 0.9360\n",
      "Epoch 19/30\n",
      "61/61 - 0s - loss: 0.0211 - accuracy: 0.9969 - val_loss: 0.1543 - val_accuracy: 0.9360\n",
      "Epoch 20/30\n",
      "61/61 - 0s - loss: 0.0190 - accuracy: 0.9969 - val_loss: 0.1403 - val_accuracy: 0.9401\n",
      "Epoch 21/30\n",
      "61/61 - 0s - loss: 0.0172 - accuracy: 0.9969 - val_loss: 0.1605 - val_accuracy: 0.9339\n",
      "Epoch 22/30\n",
      "61/61 - 0s - loss: 0.0171 - accuracy: 0.9954 - val_loss: 0.1431 - val_accuracy: 0.9421\n",
      "Epoch 23/30\n",
      "61/61 - 0s - loss: 0.0151 - accuracy: 0.9969 - val_loss: 0.1450 - val_accuracy: 0.9380\n",
      "Epoch 24/30\n",
      "61/61 - 0s - loss: 0.0139 - accuracy: 0.9969 - val_loss: 0.1421 - val_accuracy: 0.9401\n",
      "Epoch 25/30\n",
      "61/61 - 0s - loss: 0.0132 - accuracy: 0.9969 - val_loss: 0.1492 - val_accuracy: 0.9380\n",
      "Epoch 26/30\n",
      "61/61 - 0s - loss: 0.0134 - accuracy: 0.9969 - val_loss: 0.1558 - val_accuracy: 0.9380\n",
      "Epoch 27/30\n",
      "61/61 - 0s - loss: 0.0115 - accuracy: 0.9964 - val_loss: 0.1435 - val_accuracy: 0.9401\n",
      "Epoch 28/30\n",
      "61/61 - 0s - loss: 0.0109 - accuracy: 0.9979 - val_loss: 0.1496 - val_accuracy: 0.9421\n",
      "Epoch 29/30\n",
      "61/61 - 0s - loss: 0.0104 - accuracy: 0.9969 - val_loss: 0.1470 - val_accuracy: 0.9401\n",
      "Epoch 30/30\n",
      "61/61 - 0s - loss: 0.0099 - accuracy: 0.9974 - val_loss: 0.1635 - val_accuracy: 0.9380\n"
     ]
    }
   ],
   "source": [
    "num_epochs = 30\n",
    "history = model.fit(training_padded, \n",
    "                    training_labels, \n",
    "                    epochs=num_epochs,\n",
    "                    validation_data=(testing_padded, testing_labels), verbose=2)"
   ]
  },
  {
   "cell_type": "code",
   "execution_count": 11,
   "metadata": {
    "colab": {
     "base_uri": "https://localhost:8080/",
     "height": 542
    },
    "id": "b7uS2UIGyoUj",
    "outputId": "bff40c23-a085-4ed9-ec68-636d800f2d58"
   },
   "outputs": [
    {
     "data": {
      "image/png": "[encoded data removed]",
      "text/plain": [
       "<Figure size 432x288 with 1 Axes>"
      ]
     },
     "metadata": {
      "needs_background": "light",
      "tags": []
     },
     "output_type": "display_data"
    },
    {
     "data": {
      "image/png": "[encoded data removed]",
      "text/plain": [
       "<Figure size 432x288 with 1 Axes>"
      ]
     },
     "metadata": {
      "needs_background": "light",
      "tags": []
     },
     "output_type": "display_data"
    }
   ],
   "source": [
    "# Plot loss and accuracy per iteration\n",
    "import matplotlib.pyplot as plt\n",
    "\n",
    "\n",
    "def plot_graphs(history, string):\n",
    "  plt.plot(history.history[string])\n",
    "  plt.plot(history.history['val_'+string])\n",
    "  plt.xlabel(\"Epochs\")\n",
    "  plt.ylabel(string)\n",
    "  plt.legend([string, 'val_'+string])\n",
    "  plt.show()\n",
    "  \n",
    "plot_graphs(history, \"accuracy\")\n",
    "plot_graphs(history, \"loss\")"
   ]
  },
  {
   "cell_type": "code",
   "execution_count": 12,
   "metadata": {
    "colab": {
     "base_uri": "https://localhost:8080/"
    },
    "id": "Tv-vKaUuzwek",
    "outputId": "17728972-23b2-4ac5-911a-70a6f1140e0c"
   },
   "outputs": [
    {
     "name": "stdout",
     "output_type": "stream",
     "text": [
      "[[0.99989736]]\n"
     ]
    }
   ],
   "source": [
    "# Test accuracy with new staements\n",
    "\n",
    "statement = [\"The transfer of state enterprises to the so-called profit basis is inevitably and inseparably connected with the New Economic Policy; in the near future this is bound to become the predominant, if not the sole, form of state enterprise. In actual fact, this means that with the free market now permitted and developing the state enterprises will to a large extent be put on a commercial basis. In view of the urgent need to increase the productivity of labour and make every state enterprise pay its way and show a profit, and in view of the inevitable rise of narrow departmental interests and excessive departmental zeal, this circumstance is bound; to create a certain conflict of interests in matters concerning labour conditions between the masses of workers and the directors and managers of the state enterprises, or the government departments in charge of them. Therefore, as regards the socialised enterprises, it is undoubtedly the duty of the trade unions to protect the interests of the working people, to facilitate as far as possible the improvement of their standard of living, and constantly to correct the blunders and excesses of business organisations resulting from bureaucratic distortions of the state apparatus.\"]\n",
    "sequences = tokenizer.texts_to_sequences(statement)\n",
    "padded = pad_sequences(sequences, maxlen=max_length, padding=padding_type, truncating=trunc_type)\n",
    "print(model.predict(padded))"
   ]
  }
 ],
 "metadata": {
  "accelerator": "GPU",
  "colab": {
   "collapsed_sections": [],
   "name": "leninism_1.ipynb",
   "provenance": []
  },
  "kernelspec": {
   "display_name": "Python 3",
   "language": "python",
   "name": "python3"
  },
  "language_info": {
   "codemirror_mode": {
    "name": "ipython",
    "version": 3
   },
   "file_extension": ".py",
   "mimetype": "text/x-python",
   "name": "python",
   "nbconvert_exporter": "python",
   "pygments_lexer": "ipython3",
   "version": "3.7.6"
  }
 },
 "nbformat": 4,
 "nbformat_minor": 1
}
